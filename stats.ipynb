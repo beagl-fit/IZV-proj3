{
 "cells": [
  {
   "cell_type": "markdown",
   "source": [
    "# Úkol 2: Test hypotézy\n",
    "*Hypotézy jsou ověřovány s 95% jistotou*"
   ],
   "metadata": {
    "collapsed": false
   }
  },
  {
   "cell_type": "markdown",
   "source": [
    "Import knihoven a načtení DataFramu"
   ],
   "metadata": {
    "collapsed": false
   }
  },
  {
   "cell_type": "code",
   "execution_count": 19,
   "outputs": [
    {
     "data": {
      "text/plain": "                  p1  p36    p37         p2a  weekday(p2a)   p2b  p6  p7  p8  \\\n0       002100160001    4     -1  2016-01-01             5    55   1   1   0   \n1       002100160002    4     -1  2016-01-01             5   130   1   3   0   \n2       002100160003    5     -1  2016-01-01             5   100   1   2   0   \n3       002100160004    6     -1  2016-01-01             5   120   9   0   0   \n4       002100160005    6     -1  2016-01-01             5  2560   2   0   0   \n...              ...  ...    ...         ...           ...   ...  ..  ..  ..   \n572929  190906210457    6     -1  2021-08-30             1   506   2   0   0   \n572930  190906210458    6     -1  2021-08-30             1   752   2   0   0   \n572931  190906210459    3   2099  2021-08-30             1  1505   1   3   0   \n572932  190906210460    3   2099  2021-08-31             2  1245   0   0   0   \n572933  190906210461    3  21029  2021-08-31             2  1834   3   0   4   \n\n        p9  ...      l        n  o                       p       q       r  \\\n0        2  ...          711403     Souhlasnýsesměremúseku  Pomalý  554782   \n1        2  ...                                                         -1   \n2        2  ...                                                         -1   \n3        2  ...                                                         -1   \n4        2  ...                                                         -1   \n...     ..  ...    ...      ... ..                     ...     ...     ...   \n572929   2  ...         2611387                             Pomalý  560359   \n572930   2  ...         2541503         Opačnýkesměruúseku  Pomalý  560383   \n572931   2  ...                                                         -1   \n572932   1  ...   2099   199764         Opačnýkesměruúseku  Pomalý  560286   \n572933   1  ...  21029  3650728     Souhlasnýsesměremúseku  Pomalý  560324   \n\n             s                   t  p5a  region  \n0       451622  GN_V0.1UIR-ADR_410    1     PHA  \n1           -1                        1     PHA  \n2           -1                        1     PHA  \n3           -1                        1     PHA  \n4           -1                        1     PHA  \n...        ...                 ...  ...     ...  \n572929      -1  GN_V0.1UIR-ADR_410    1     KVK  \n572930  550426  GN_V0.1UIR-ADR_410    1     KVK  \n572931      -1                        1     KVK  \n572932  553654  GN_V0.1UIR-ADR_410    1     KVK  \n572933      -1  GN_V0.1UIR-ADR_410    2     KVK  \n\n[572934 rows x 65 columns]",
      "text/html": "<div>\n<style scoped>\n    .dataframe tbody tr th:only-of-type {\n        vertical-align: middle;\n    }\n\n    .dataframe tbody tr th {\n        vertical-align: top;\n    }\n\n    .dataframe thead th {\n        text-align: right;\n    }\n</style>\n<table border=\"1\" class=\"dataframe\">\n  <thead>\n    <tr style=\"text-align: right;\">\n      <th></th>\n      <th>p1</th>\n      <th>p36</th>\n      <th>p37</th>\n      <th>p2a</th>\n      <th>weekday(p2a)</th>\n      <th>p2b</th>\n      <th>p6</th>\n      <th>p7</th>\n      <th>p8</th>\n      <th>p9</th>\n      <th>...</th>\n      <th>l</th>\n      <th>n</th>\n      <th>o</th>\n      <th>p</th>\n      <th>q</th>\n      <th>r</th>\n      <th>s</th>\n      <th>t</th>\n      <th>p5a</th>\n      <th>region</th>\n    </tr>\n  </thead>\n  <tbody>\n    <tr>\n      <th>0</th>\n      <td>002100160001</td>\n      <td>4</td>\n      <td>-1</td>\n      <td>2016-01-01</td>\n      <td>5</td>\n      <td>55</td>\n      <td>1</td>\n      <td>1</td>\n      <td>0</td>\n      <td>2</td>\n      <td>...</td>\n      <td></td>\n      <td>711403</td>\n      <td></td>\n      <td>Souhlasnýsesměremúseku</td>\n      <td>Pomalý</td>\n      <td>554782</td>\n      <td>451622</td>\n      <td>GN_V0.1UIR-ADR_410</td>\n      <td>1</td>\n      <td>PHA</td>\n    </tr>\n    <tr>\n      <th>1</th>\n      <td>002100160002</td>\n      <td>4</td>\n      <td>-1</td>\n      <td>2016-01-01</td>\n      <td>5</td>\n      <td>130</td>\n      <td>1</td>\n      <td>3</td>\n      <td>0</td>\n      <td>2</td>\n      <td>...</td>\n      <td></td>\n      <td></td>\n      <td></td>\n      <td></td>\n      <td></td>\n      <td>-1</td>\n      <td>-1</td>\n      <td></td>\n      <td>1</td>\n      <td>PHA</td>\n    </tr>\n    <tr>\n      <th>2</th>\n      <td>002100160003</td>\n      <td>5</td>\n      <td>-1</td>\n      <td>2016-01-01</td>\n      <td>5</td>\n      <td>100</td>\n      <td>1</td>\n      <td>2</td>\n      <td>0</td>\n      <td>2</td>\n      <td>...</td>\n      <td></td>\n      <td></td>\n      <td></td>\n      <td></td>\n      <td></td>\n      <td>-1</td>\n      <td>-1</td>\n      <td></td>\n      <td>1</td>\n      <td>PHA</td>\n    </tr>\n    <tr>\n      <th>3</th>\n      <td>002100160004</td>\n      <td>6</td>\n      <td>-1</td>\n      <td>2016-01-01</td>\n      <td>5</td>\n      <td>120</td>\n      <td>9</td>\n      <td>0</td>\n      <td>0</td>\n      <td>2</td>\n      <td>...</td>\n      <td></td>\n      <td></td>\n      <td></td>\n      <td></td>\n      <td></td>\n      <td>-1</td>\n      <td>-1</td>\n      <td></td>\n      <td>1</td>\n      <td>PHA</td>\n    </tr>\n    <tr>\n      <th>4</th>\n      <td>002100160005</td>\n      <td>6</td>\n      <td>-1</td>\n      <td>2016-01-01</td>\n      <td>5</td>\n      <td>2560</td>\n      <td>2</td>\n      <td>0</td>\n      <td>0</td>\n      <td>2</td>\n      <td>...</td>\n      <td></td>\n      <td></td>\n      <td></td>\n      <td></td>\n      <td></td>\n      <td>-1</td>\n      <td>-1</td>\n      <td></td>\n      <td>1</td>\n      <td>PHA</td>\n    </tr>\n    <tr>\n      <th>...</th>\n      <td>...</td>\n      <td>...</td>\n      <td>...</td>\n      <td>...</td>\n      <td>...</td>\n      <td>...</td>\n      <td>...</td>\n      <td>...</td>\n      <td>...</td>\n      <td>...</td>\n      <td>...</td>\n      <td>...</td>\n      <td>...</td>\n      <td>...</td>\n      <td>...</td>\n      <td>...</td>\n      <td>...</td>\n      <td>...</td>\n      <td>...</td>\n      <td>...</td>\n      <td>...</td>\n    </tr>\n    <tr>\n      <th>572929</th>\n      <td>190906210457</td>\n      <td>6</td>\n      <td>-1</td>\n      <td>2021-08-30</td>\n      <td>1</td>\n      <td>506</td>\n      <td>2</td>\n      <td>0</td>\n      <td>0</td>\n      <td>2</td>\n      <td>...</td>\n      <td></td>\n      <td>2611387</td>\n      <td></td>\n      <td></td>\n      <td>Pomalý</td>\n      <td>560359</td>\n      <td>-1</td>\n      <td>GN_V0.1UIR-ADR_410</td>\n      <td>1</td>\n      <td>KVK</td>\n    </tr>\n    <tr>\n      <th>572930</th>\n      <td>190906210458</td>\n      <td>6</td>\n      <td>-1</td>\n      <td>2021-08-30</td>\n      <td>1</td>\n      <td>752</td>\n      <td>2</td>\n      <td>0</td>\n      <td>0</td>\n      <td>2</td>\n      <td>...</td>\n      <td></td>\n      <td>2541503</td>\n      <td></td>\n      <td>Opačnýkesměruúseku</td>\n      <td>Pomalý</td>\n      <td>560383</td>\n      <td>550426</td>\n      <td>GN_V0.1UIR-ADR_410</td>\n      <td>1</td>\n      <td>KVK</td>\n    </tr>\n    <tr>\n      <th>572931</th>\n      <td>190906210459</td>\n      <td>3</td>\n      <td>2099</td>\n      <td>2021-08-30</td>\n      <td>1</td>\n      <td>1505</td>\n      <td>1</td>\n      <td>3</td>\n      <td>0</td>\n      <td>2</td>\n      <td>...</td>\n      <td></td>\n      <td></td>\n      <td></td>\n      <td></td>\n      <td></td>\n      <td>-1</td>\n      <td>-1</td>\n      <td></td>\n      <td>1</td>\n      <td>KVK</td>\n    </tr>\n    <tr>\n      <th>572932</th>\n      <td>190906210460</td>\n      <td>3</td>\n      <td>2099</td>\n      <td>2021-08-31</td>\n      <td>2</td>\n      <td>1245</td>\n      <td>0</td>\n      <td>0</td>\n      <td>0</td>\n      <td>1</td>\n      <td>...</td>\n      <td>2099</td>\n      <td>199764</td>\n      <td></td>\n      <td>Opačnýkesměruúseku</td>\n      <td>Pomalý</td>\n      <td>560286</td>\n      <td>553654</td>\n      <td>GN_V0.1UIR-ADR_410</td>\n      <td>1</td>\n      <td>KVK</td>\n    </tr>\n    <tr>\n      <th>572933</th>\n      <td>190906210461</td>\n      <td>3</td>\n      <td>21029</td>\n      <td>2021-08-31</td>\n      <td>2</td>\n      <td>1834</td>\n      <td>3</td>\n      <td>0</td>\n      <td>4</td>\n      <td>1</td>\n      <td>...</td>\n      <td>21029</td>\n      <td>3650728</td>\n      <td></td>\n      <td>Souhlasnýsesměremúseku</td>\n      <td>Pomalý</td>\n      <td>560324</td>\n      <td>-1</td>\n      <td>GN_V0.1UIR-ADR_410</td>\n      <td>2</td>\n      <td>KVK</td>\n    </tr>\n  </tbody>\n</table>\n<p>572934 rows × 65 columns</p>\n</div>"
     },
     "execution_count": 19,
     "metadata": {},
     "output_type": "execute_result"
    }
   ],
   "source": [
    "import pandas as pd\n",
    "import scipy.stats\n",
    "\n",
    "df = pd.read_pickle(\"accidents.pkl.gz\")\n",
    "\n",
    "df"
   ],
   "metadata": {
    "collapsed": false
   }
  },
  {
   "cell_type": "markdown",
   "source": [
    "## Hypotéza 1:\n",
    "**Na silnicích první třídy se při nehodách umíralo se stejnou pravděpodobností jako na silnicích třetí třídy.**\n",
    "*K ověření hypotézy je využit χ<sup>2</sup> test*\n",
    "\n",
    "**H0**: Neexistuje žádná závislost mezi úmrtími při nehodách na silnicích 1. a 3. třídy\n",
    "**H1**: Existuje závislost mezi úmrtími při nehodách na silnicích 1. a 3. třídy"
   ],
   "metadata": {
    "collapsed": false
   }
  },
  {
   "cell_type": "markdown",
   "source": [
    "Vytáhnutí pouze potřebných dat z DataFramu"
   ],
   "metadata": {
    "collapsed": false
   }
  },
  {
   "cell_type": "code",
   "execution_count": 20,
   "outputs": [
    {
     "data": {
      "text/plain": "        silnice  mrtvi  nekdo_umrel\n7594          1      0        False\n10530         1      0        False\n10532         1      0        False\n13362         1      0        False\n21478         1      0        False\n...         ...    ...          ...\n572914        3      0        False\n572922        3      0        False\n572931        3      0        False\n572932        3      0        False\n572933        3      0        False\n\n[153329 rows x 3 columns]",
      "text/html": "<div>\n<style scoped>\n    .dataframe tbody tr th:only-of-type {\n        vertical-align: middle;\n    }\n\n    .dataframe tbody tr th {\n        vertical-align: top;\n    }\n\n    .dataframe thead th {\n        text-align: right;\n    }\n</style>\n<table border=\"1\" class=\"dataframe\">\n  <thead>\n    <tr style=\"text-align: right;\">\n      <th></th>\n      <th>silnice</th>\n      <th>mrtvi</th>\n      <th>nekdo_umrel</th>\n    </tr>\n  </thead>\n  <tbody>\n    <tr>\n      <th>7594</th>\n      <td>1</td>\n      <td>0</td>\n      <td>False</td>\n    </tr>\n    <tr>\n      <th>10530</th>\n      <td>1</td>\n      <td>0</td>\n      <td>False</td>\n    </tr>\n    <tr>\n      <th>10532</th>\n      <td>1</td>\n      <td>0</td>\n      <td>False</td>\n    </tr>\n    <tr>\n      <th>13362</th>\n      <td>1</td>\n      <td>0</td>\n      <td>False</td>\n    </tr>\n    <tr>\n      <th>21478</th>\n      <td>1</td>\n      <td>0</td>\n      <td>False</td>\n    </tr>\n    <tr>\n      <th>...</th>\n      <td>...</td>\n      <td>...</td>\n      <td>...</td>\n    </tr>\n    <tr>\n      <th>572914</th>\n      <td>3</td>\n      <td>0</td>\n      <td>False</td>\n    </tr>\n    <tr>\n      <th>572922</th>\n      <td>3</td>\n      <td>0</td>\n      <td>False</td>\n    </tr>\n    <tr>\n      <th>572931</th>\n      <td>3</td>\n      <td>0</td>\n      <td>False</td>\n    </tr>\n    <tr>\n      <th>572932</th>\n      <td>3</td>\n      <td>0</td>\n      <td>False</td>\n    </tr>\n    <tr>\n      <th>572933</th>\n      <td>3</td>\n      <td>0</td>\n      <td>False</td>\n    </tr>\n  </tbody>\n</table>\n<p>153329 rows × 3 columns</p>\n</div>"
     },
     "execution_count": 20,
     "metadata": {},
     "output_type": "execute_result"
    }
   ],
   "source": [
    "data = pd.DataFrame()\n",
    "data[['silnice', 'mrtvi']] = df[['p36', 'p13a']].copy()\n",
    "# data = data[(data['mrtvi'] > 0) & ((data['silnice'] == 1) | (data['silnice'] == 3))]\n",
    "data = data[(data['silnice'] == 1) | (data['silnice'] == 3)]\n",
    "data['nekdo_umrel'] = data['mrtvi'] > 0\n",
    "\n",
    "data"
   ],
   "metadata": {
    "collapsed": false
   }
  },
  {
   "cell_type": "markdown",
   "source": [
    "Provedení pivotu pro získání údajů o úmrtnosti na silnicích"
   ],
   "metadata": {
    "collapsed": false
   }
  },
  {
   "cell_type": "code",
   "execution_count": 21,
   "outputs": [
    {
     "data": {
      "text/plain": "silnice          1      3\nnekdo_umrel              \nFalse        78618  73352\nTrue           911    448",
      "text/html": "<div>\n<style scoped>\n    .dataframe tbody tr th:only-of-type {\n        vertical-align: middle;\n    }\n\n    .dataframe tbody tr th {\n        vertical-align: top;\n    }\n\n    .dataframe thead th {\n        text-align: right;\n    }\n</style>\n<table border=\"1\" class=\"dataframe\">\n  <thead>\n    <tr style=\"text-align: right;\">\n      <th>silnice</th>\n      <th>1</th>\n      <th>3</th>\n    </tr>\n    <tr>\n      <th>nekdo_umrel</th>\n      <th></th>\n      <th></th>\n    </tr>\n  </thead>\n  <tbody>\n    <tr>\n      <th>False</th>\n      <td>78618</td>\n      <td>73352</td>\n    </tr>\n    <tr>\n      <th>True</th>\n      <td>911</td>\n      <td>448</td>\n    </tr>\n  </tbody>\n</table>\n</div>"
     },
     "execution_count": 21,
     "metadata": {},
     "output_type": "execute_result"
    }
   ],
   "source": [
    "data_pivot = pd.pivot_table(data, index='nekdo_umrel', columns='silnice', values='nekdo_umrel', aggfunc='count')\n",
    "# data_crosstab = pd.crosstab(index=data['nekdo_umrel'], columns=data['silnice'], values=data['nekdo_umrel'], aggfunc='count')\n",
    "data_pivot"
   ],
   "metadata": {
    "collapsed": false
   }
  },
  {
   "cell_type": "markdown",
   "source": [
    "Výpočet pomocí χ<sup>2</sup> testu"
   ],
   "metadata": {
    "collapsed": false
   }
  },
  {
   "cell_type": "code",
   "execution_count": 22,
   "outputs": [
    {
     "data": {
      "text/plain": "3.5395243450138555e-29"
     },
     "execution_count": 22,
     "metadata": {},
     "output_type": "execute_result"
    }
   ],
   "source": [
    "vysledek = scipy.stats.chi2_contingency(observed=data_pivot)\n",
    "vysledek[1]"
   ],
   "metadata": {
    "collapsed": false
   }
  },
  {
   "cell_type": "markdown",
   "source": [
    "P-hodnota 3,5395e<sup>-29</sup> je nižší než 0,05, proto zamítáme hypotézu H0 na hladině významnosti α=0,05.\n",
    "\n",
    "Můžeme tedy tvrdit, že existuje závislost mezi pravděpodobností úmrtí na silnicích 1. a 3. třídy, což lze vidět i v tabulce *data_pivot*, kde počet nehod je srovnatelný, ale počet úmrtí je na silnicích první třídy skoro dvojnásobný."
   ],
   "metadata": {
    "collapsed": false
   }
  },
  {
   "cell_type": "markdown",
   "source": [
    "---\n",
    "# Hypotéza 2:\n",
    "**Při nehodách vozidel značky Škoda je škoda na vozidle nižší než při nehodách vozidel Audi**\n",
    "*K ověření hypotézy je využit Mann-Whitneyův pořadový test*\n",
    "\n",
    "**H0**: Při nehodách není rozdíl ve škodách na vozidlech značek Audi a Škoda\n",
    "**H1**: Při nehodách je rozdíl ve škodách na vozidlech značek Audi a Škoda"
   ],
   "metadata": {
    "collapsed": false
   }
  },
  {
   "cell_type": "markdown",
   "source": [
    "Vytáhnutí potřebných dat\n",
    "\n",
    "- značka 2 je AUDI\n",
    "- značka 39 je ŠKODA"
   ],
   "metadata": {
    "collapsed": false
   }
  },
  {
   "cell_type": "code",
   "execution_count": 23,
   "outputs": [
    {
     "data": {
      "text/plain": "        znacka  skoda\n0            2   4000\n6           39    200\n9           39    300\n11          39     50\n16          39   1200\n...        ...    ...\n572911      39     10\n572916      39    130\n572921      39    100\n572923      39      0\n572931       2     50\n\n[129824 rows x 2 columns]",
      "text/html": "<div>\n<style scoped>\n    .dataframe tbody tr th:only-of-type {\n        vertical-align: middle;\n    }\n\n    .dataframe tbody tr th {\n        vertical-align: top;\n    }\n\n    .dataframe thead th {\n        text-align: right;\n    }\n</style>\n<table border=\"1\" class=\"dataframe\">\n  <thead>\n    <tr style=\"text-align: right;\">\n      <th></th>\n      <th>znacka</th>\n      <th>skoda</th>\n    </tr>\n  </thead>\n  <tbody>\n    <tr>\n      <th>0</th>\n      <td>2</td>\n      <td>4000</td>\n    </tr>\n    <tr>\n      <th>6</th>\n      <td>39</td>\n      <td>200</td>\n    </tr>\n    <tr>\n      <th>9</th>\n      <td>39</td>\n      <td>300</td>\n    </tr>\n    <tr>\n      <th>11</th>\n      <td>39</td>\n      <td>50</td>\n    </tr>\n    <tr>\n      <th>16</th>\n      <td>39</td>\n      <td>1200</td>\n    </tr>\n    <tr>\n      <th>...</th>\n      <td>...</td>\n      <td>...</td>\n    </tr>\n    <tr>\n      <th>572911</th>\n      <td>39</td>\n      <td>10</td>\n    </tr>\n    <tr>\n      <th>572916</th>\n      <td>39</td>\n      <td>130</td>\n    </tr>\n    <tr>\n      <th>572921</th>\n      <td>39</td>\n      <td>100</td>\n    </tr>\n    <tr>\n      <th>572923</th>\n      <td>39</td>\n      <td>0</td>\n    </tr>\n    <tr>\n      <th>572931</th>\n      <td>2</td>\n      <td>50</td>\n    </tr>\n  </tbody>\n</table>\n<p>129824 rows × 2 columns</p>\n</div>"
     },
     "execution_count": 23,
     "metadata": {},
     "output_type": "execute_result"
    }
   ],
   "source": [
    "data2 = pd.DataFrame()\n",
    "data2[['znacka', 'skoda']] = df[['p45a', 'p53']].copy()\n",
    "data2 = data2[(data2['znacka'] == 2) | (data2['znacka'] == 39)]\n",
    "\n",
    "data2"
   ],
   "metadata": {
    "collapsed": false
   }
  },
  {
   "cell_type": "markdown",
   "source": [
    "Vytvoření sérií pro vozidla značek Škoda a Audi, celková škoda na vozidlech"
   ],
   "metadata": {
    "collapsed": false
   }
  },
  {
   "cell_type": "code",
   "execution_count": 24,
   "outputs": [
    {
     "data": {
      "text/plain": "znacka       2         39\nskoda   6504868  43583126",
      "text/html": "<div>\n<style scoped>\n    .dataframe tbody tr th:only-of-type {\n        vertical-align: middle;\n    }\n\n    .dataframe tbody tr th {\n        vertical-align: top;\n    }\n\n    .dataframe thead th {\n        text-align: right;\n    }\n</style>\n<table border=\"1\" class=\"dataframe\">\n  <thead>\n    <tr style=\"text-align: right;\">\n      <th>znacka</th>\n      <th>2</th>\n      <th>39</th>\n    </tr>\n  </thead>\n  <tbody>\n    <tr>\n      <th>skoda</th>\n      <td>6504868</td>\n      <td>43583126</td>\n    </tr>\n  </tbody>\n</table>\n</div>"
     },
     "execution_count": 24,
     "metadata": {},
     "output_type": "execute_result"
    }
   ],
   "source": [
    "data2_skoda = data2.loc[data2['znacka'] == 39, 'skoda']\n",
    "data2_audi = data2.loc[data2['znacka'] == 2, 'skoda']\n",
    "\n",
    "data2_pivot = pd.pivot_table(data2, columns='znacka', aggfunc='sum')\n",
    "data2_pivot"
   ],
   "metadata": {
    "collapsed": false
   }
  },
  {
   "cell_type": "markdown",
   "source": [
    "Počet nehod vozidel značek"
   ],
   "metadata": {
    "collapsed": false
   }
  },
  {
   "cell_type": "code",
   "execution_count": 25,
   "outputs": [
    {
     "name": "stdout",
     "output_type": "stream",
     "text": [
      "Audi:\t 11445 \n",
      "Škoda:\t 118379\n"
     ]
    }
   ],
   "source": [
    "print('Audi:\\t', len(data2[data2['znacka'] == 2]), '\\nŠkoda:\\t', len(data2[data2['znacka'] == 39]))"
   ],
   "metadata": {
    "collapsed": false
   }
  },
  {
   "cell_type": "markdown",
   "source": [
    "Provedení Mann-Whitneyova testu"
   ],
   "metadata": {
    "collapsed": false
   }
  },
  {
   "cell_type": "code",
   "execution_count": 26,
   "outputs": [
    {
     "data": {
      "text/plain": "MannwhitneyuResult(statistic=565845919.0, pvalue=4.921643600739696e-188)"
     },
     "execution_count": 26,
     "metadata": {},
     "output_type": "execute_result"
    }
   ],
   "source": [
    "scipy.stats.mannwhitneyu(data2_skoda, data2_audi)"
   ],
   "metadata": {
    "collapsed": false
   }
  },
  {
   "cell_type": "markdown",
   "source": [
    "P-hodnota 4,9216e<sup>-188</sup> je mnohem nižší než 0,05, proto zamítáme hypotézu H0 na hladině významnosti α=0,05.\n",
    "\n",
    "Můžeme tedy tvrdit, že je rozdíl ve škodách na vozidlech u značek Audi a Škoda, což lze vidět i z *data2_pivot* a počtu nehod, kde počet nehod je asi 10x vyšší u vozidel značky Škoda, ale škoda na vozidlech je vyšší pouze 7x."
   ],
   "metadata": {
    "collapsed": false
   }
  }
 ],
 "metadata": {
  "kernelspec": {
   "display_name": "Python 3",
   "language": "python",
   "name": "python3"
  },
  "language_info": {
   "codemirror_mode": {
    "name": "ipython",
    "version": 2
   },
   "file_extension": ".py",
   "mimetype": "text/x-python",
   "name": "python",
   "nbconvert_exporter": "python",
   "pygments_lexer": "ipython2",
   "version": "2.7.6"
  }
 },
 "nbformat": 4,
 "nbformat_minor": 0
}
